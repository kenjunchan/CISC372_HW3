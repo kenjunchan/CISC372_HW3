{
 "cells": [
  {
   "cell_type": "code",
   "execution_count": 3,
   "metadata": {},
   "outputs": [],
   "source": [
    "!gcc -o hello -fopenmp hello.c"
   ]
  },
  {
   "cell_type": "code",
   "execution_count": 4,
   "metadata": {},
   "outputs": [
    {
     "name": "stdout",
     "output_type": "stream",
     "text": [
      "Printing helloworld from Thread4\r\n",
      "Printing helloworld from Thread5\r\n",
      "Printing helloworld from Thread2\r\n",
      "Printing helloworld from Thread1\r\n",
      "Printing helloworld from Thread3\r\n",
      "Printing helloworld from Thread0\r\n",
      "Printing helloworld from Thread6\r\n",
      "Printing helloworld from Thread7\r\n"
     ]
    }
   ],
   "source": [
    "!OMP_NUM_THREADS=8 ./hello"
   ]
  },
  {
   "cell_type": "code",
   "execution_count": null,
   "metadata": {},
   "outputs": [],
   "source": []
  }
 ],
 "metadata": {
  "kernelspec": {
   "display_name": "Python 3",
   "language": "python",
   "name": "python3"
  },
  "language_info": {
   "codemirror_mode": {
    "name": "ipython",
    "version": 3
   },
   "file_extension": ".py",
   "mimetype": "text/x-python",
   "name": "python",
   "nbconvert_exporter": "python",
   "pygments_lexer": "ipython3",
   "version": "3.6.8"
  }
 },
 "nbformat": 4,
 "nbformat_minor": 2
}
